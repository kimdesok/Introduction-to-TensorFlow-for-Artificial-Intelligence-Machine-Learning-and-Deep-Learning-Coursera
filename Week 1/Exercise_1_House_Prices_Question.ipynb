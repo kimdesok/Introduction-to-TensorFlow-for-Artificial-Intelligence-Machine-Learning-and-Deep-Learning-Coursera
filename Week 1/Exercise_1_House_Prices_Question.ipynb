{
  "cells": [
    {
      "cell_type": "markdown",
      "metadata": {
        "id": "mw2VBrBcgvGa"
      },
      "source": [
        "In this exercise you'll try to build a neural network that predicts the price of a house according to a simple formula.\n",
        "\n",
        "So, imagine if house pricing was as easy as a house costs 50k + 50k per bedroom, so that a 1 bedroom house costs 100k, a 2 bedroom house costs 150k etc.\n",
        "\n",
        "How would you create a neural network that learns this relationship so that it would predict a 7 bedroom house as costing close to 400k etc.\n",
        "\n",
        "Hint: Your network might work better if you scale the house price down. You don't have to give the answer 400...it might be better to create something that predicts the number 4, and then your answer is in the 'hundreds of thousands' etc."
      ]
    },
    {
      "cell_type": "code",
      "execution_count": null,
      "metadata": {
        "id": "wVX9UAZorTMx"
      },
      "outputs": [],
      "source": [
        "import tensorflow as tf\n",
        "import numpy as np\n",
        "from tensorflow import keras"
      ]
    },
    {
      "cell_type": "code",
      "execution_count": null,
      "metadata": {
        "id": "PUNO2E6SeURH"
      },
      "outputs": [],
      "source": [
        "# GRADED FUNCTION: house_model\n",
        "def house_model(y_new):\n",
        "    xs = np.array([1.0,2.0,3.0,4.0,5.0,6.0,8.0,9.0,10.0], dtype=float)    #took 9 houses with bedrooms 1,2,3....10 respectively\n",
        "    ys = np.array([1.0,1.5,2.0,2.5,3.0,3.5,4.5,5.0,5.5],dtype=float)       #prices of 9 houses in 'hundreds of thousands'\n",
        "    model = keras.Sequential([keras.layers.Dense(units=1,input_shape=[1])])\n",
        "    model.compile(optimizer = 'sgd', loss = 'mean_squared_error')\n",
        "    model.fit(xs,ys,epochs=500)\n",
        "    return model.predict(y_new)[0]"
      ]
    },
    {
      "cell_type": "code",
      "execution_count": null,
      "metadata": {
        "id": "ULYTFvJurTM4"
      },
      "outputs": [],
      "source": [
        "prediction = house_model([7.0])\n",
        "print(prediction)"
      ]
    }
  ],
  "metadata": {
    "coursera": {
      "course_slug": "introduction-tensorflow",
      "graded_item_id": "jRjw8",
      "launcher_item_id": "YoQKl"
    },
    "kernelspec": {
      "display_name": "Python 3",
      "language": "python",
      "name": "python3"
    },
    "language_info": {
      "codemirror_mode": {
        "name": "ipython",
        "version": 3
      },
      "file_extension": ".py",
      "mimetype": "text/x-python",
      "name": "python",
      "nbconvert_exporter": "python",
      "pygments_lexer": "ipython3",
      "version": "3.6.8"
    },
    "colab": {
      "name": "Exercise_1_House_Prices_Question.ipynb",
      "provenance": []
    }
  },
  "nbformat": 4,
  "nbformat_minor": 0
}