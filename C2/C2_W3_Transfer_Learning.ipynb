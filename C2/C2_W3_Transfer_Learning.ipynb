{
  "nbformat": 4,
  "nbformat_minor": 0,
  "metadata": {
    "colab": {
      "name": "C2-W3-Transfer Learning.ipynb",
      "provenance": [],
      "collapsed_sections": [],
      "authorship_tag": "ABX9TyNg1t1/4sbV351GXnfkTH2i",
      "include_colab_link": true
    },
    "kernelspec": {
      "name": "python3",
      "display_name": "Python 3"
    },
    "language_info": {
      "name": "python"
    }
  },
  "cells": [
    {
      "cell_type": "markdown",
      "metadata": {
        "id": "view-in-github",
        "colab_type": "text"
      },
      "source": [
        "<a href=\"https://colab.research.google.com/github/kimdesok/Introduction-to-TensorFlow-for-Artificial-Intelligence-Machine-Learning-and-Deep-Learning-Coursera/blob/master/C2/C2_W3_Transfer_Learning.ipynb\" target=\"_parent\"><img src=\"https://colab.research.google.com/assets/colab-badge.svg\" alt=\"Open In Colab\"/></a>"
      ]
    },
    {
      "cell_type": "markdown",
      "source": [
        "## Transfer the learned layers and train the top layers\n",
        "> 1) just get the convolution layers of one model <br>\n",
        "> 2) attach some dense layers onto it <br>\n",
        "> 3) train just the dense network <br>\n",
        "> 4) evaluate the results <br>\n",
        "> 5) fine tune by unfreeze a part or whole layers <br>\n",
        "> 6) re-evaluate"
      ],
      "metadata": {
        "id": "wIAkn2Be4idy"
      }
    },
    {
      "cell_type": "markdown",
      "source": [
        "###Setup the pretrained model"
      ],
      "metadata": {
        "id": "6JYG_BBj5ulS"
      }
    },
    {
      "cell_type": "code",
      "execution_count": null,
      "metadata": {
        "colab": {
          "base_uri": "https://localhost:8080/"
        },
        "id": "wFYbiyu72XNY",
        "outputId": "ddec6498-b0cf-4d1d-fa1a-3060ae632fa7"
      },
      "outputs": [
        {
          "output_type": "stream",
          "name": "stdout",
          "text": [
            "--2022-06-06 12:15:05--  https://storage.googleapis.com/mledu-datasets/inception_v3_weights_tf_dim_ordering_tf_kernels_notop.h5\n",
            "Resolving storage.googleapis.com (storage.googleapis.com)... 74.125.20.128, 108.177.98.128, 74.125.197.128, ...\n",
            "Connecting to storage.googleapis.com (storage.googleapis.com)|74.125.20.128|:443... connected.\n",
            "HTTP request sent, awaiting response... 200 OK\n",
            "Length: 87910968 (84M) [application/x-hdf]\n",
            "Saving to: ‘/tmp/inception_v3_weights_tf_dim_ordering_tf_kernels_notop.h5’\n",
            "\n",
            "/tmp/inception_v3_w 100%[===================>]  83.84M   296MB/s    in 0.3s    \n",
            "\n",
            "2022-06-06 12:15:06 (296 MB/s) - ‘/tmp/inception_v3_weights_tf_dim_ordering_tf_kernels_notop.h5’ saved [87910968/87910968]\n",
            "\n"
          ]
        }
      ],
      "source": [
        "#Download the pre-trained weights.  No top means no fully connected dense layer.\n",
        "!wget --no-check-certificate \\\n",
        "https://storage.googleapis.com/mledu-datasets/inception_v3_weights_tf_dim_ordering_tf_kernels_notop.h5 \\\n",
        "-O /tmp/inception_v3_weights_tf_dim_ordering_tf_kernels_notop.h5"
      ]
    },
    {
      "cell_type": "code",
      "source": [
        "from tensorflow.keras.applications.inception_v3 import InceptionV3\n",
        "from tensorflow.keras import layers\n",
        "\n",
        "local_weights_file = '/tmp/inception_v3_weights_tf_dim_ordering_tf_kernels_notop.h5'\n",
        "\n",
        "pre_trained_model = InceptionV3(input_shape =(150,150,3), include_top=False, weights=None)\n",
        "pre_trained_model.load_weights(local_weights_file)\n",
        "\n",
        "#Freeze the weights of the layers\n",
        "for layer in pre_trained_model.layers:\n",
        "  layer.trainable = False\n"
      ],
      "metadata": {
        "id": "y6hx4-3B6g5z"
      },
      "execution_count": null,
      "outputs": []
    },
    {
      "cell_type": "code",
      "source": [
        "pre_trained_model.summary()"
      ],
      "metadata": {
        "id": "Y_31Grtz8Mui"
      },
      "execution_count": null,
      "outputs": []
    },
    {
      "cell_type": "code",
      "source": [
        "last_layer = pre_trained_model.get_layer('mixed7') # choose this layer as the last layer\n",
        "print('last layer output shape:', last_layer.output_shape)\n",
        "last_output = last_layer.output"
      ],
      "metadata": {
        "colab": {
          "base_uri": "https://localhost:8080/"
        },
        "id": "sprHJvju8Yl6",
        "outputId": "ca4a2cba-b4e2-4923-c524-7a9924553231"
      },
      "execution_count": null,
      "outputs": [
        {
          "output_type": "stream",
          "name": "stdout",
          "text": [
            "last layer output shape: (None, 7, 7, 768)\n"
          ]
        }
      ]
    },
    {
      "cell_type": "markdown",
      "source": [
        "### Add dense layers for the classifier"
      ],
      "metadata": {
        "id": "YRQaQQ5M81MD"
      }
    },
    {
      "cell_type": "code",
      "source": [
        "from tensorflow.keras.optimizers import RMSprop\n",
        "from tensorflow.keras import Model\n",
        "\n",
        "x = layers.Flatten()(last_output)\n",
        "x = layers.Dense(1024, activation='relu')(x)\n",
        "x = layers.Dropout(0.2)(x)\n",
        "x = layers.Dense(1, activation='sigmoid')(x)\n",
        "\n",
        "#Append the dense network to the base model\n",
        "model = Model (pre_trained_model.input, x)"
      ],
      "metadata": {
        "id": "nFiK3O6E8wZA"
      },
      "execution_count": null,
      "outputs": []
    },
    {
      "cell_type": "code",
      "source": [
        "model.summary()"
      ],
      "metadata": {
        "id": "y3cVIgq6-DQp"
      },
      "execution_count": null,
      "outputs": []
    },
    {
      "cell_type": "code",
      "source": [
        "#set the training parameters\n",
        "model.compile(optimizer = RMSprop(learning_rate=0.001), loss = 'binary_crossentropy', metrics=['accuracy'])"
      ],
      "metadata": {
        "id": "BNCQMD_n-VjC"
      },
      "execution_count": null,
      "outputs": []
    },
    {
      "cell_type": "code",
      "source": [
        ""
      ],
      "metadata": {
        "id": "FLnUjR54-z3v"
      },
      "execution_count": null,
      "outputs": []
    }
  ]
}