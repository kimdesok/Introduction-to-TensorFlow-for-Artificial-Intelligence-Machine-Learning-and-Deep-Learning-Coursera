{
  "nbformat": 4,
  "nbformat_minor": 0,
  "metadata": {
    "colab": {
      "name": "c1-w4-Exercise4-Handling-complex-images.ipynb",
      "provenance": [],
      "authorship_tag": "ABX9TyPE/DHlmj6A1Jq2lPqgZF2H",
      "include_colab_link": true
    },
    "kernelspec": {
      "name": "python3",
      "display_name": "Python 3"
    },
    "language_info": {
      "name": "python"
    }
  },
  "cells": [
    {
      "cell_type": "markdown",
      "metadata": {
        "id": "view-in-github",
        "colab_type": "text"
      },
      "source": [
        "<a href=\"https://colab.research.google.com/github/kimdesok/Introduction-to-TensorFlow-for-Artificial-Intelligence-Machine-Learning-and-Deep-Learning-Coursera/blob/master/C1/c1_w4_Exercise4_Handling_complex_images.ipynb\" target=\"_parent\"><img src=\"https://colab.research.google.com/assets/colab-badge.svg\" alt=\"Open In Colab\"/></a>"
      ]
    },
    {
      "cell_type": "code",
      "execution_count": 3,
      "metadata": {
        "colab": {
          "base_uri": "https://localhost:8080/"
        },
        "id": "Kx9LL6R30yfa",
        "outputId": "ce1ddca2-d9c4-4699-dee2-96e7f14d2377"
      },
      "outputs": [
        {
          "output_type": "stream",
          "name": "stdout",
          "text": [
            "--2022-06-03 03:33:50--  https://storage.googleapis.com/laurencemoroney-blog.appspot.com/happy-or-sad.zip\n",
            "Resolving storage.googleapis.com (storage.googleapis.com)... 142.251.45.112, 142.251.16.128, 142.250.188.48, ...\n",
            "Connecting to storage.googleapis.com (storage.googleapis.com)|142.251.45.112|:443... connected.\n",
            "HTTP request sent, awaiting response... 200 OK\n",
            "Length: 2670333 (2.5M) [application/zip]\n",
            "Saving to: ‘/tmp/happy-or-sad.zip’\n",
            "\n",
            "\r/tmp/happy-or-sad.z   0%[                    ]       0  --.-KB/s               \r/tmp/happy-or-sad.z 100%[===================>]   2.55M  --.-KB/s    in 0.03s   \n",
            "\n",
            "2022-06-03 03:33:50 (82.6 MB/s) - ‘/tmp/happy-or-sad.zip’ saved [2670333/2670333]\n",
            "\n",
            "Found 80 images belonging to 2 classes.\n"
          ]
        },
        {
          "output_type": "stream",
          "name": "stderr",
          "text": [
            "/usr/local/lib/python3.7/dist-packages/keras/optimizer_v2/rmsprop.py:130: UserWarning: The `lr` argument is deprecated, use `learning_rate` instead.\n",
            "  super(RMSprop, self).__init__(name, **kwargs)\n"
          ]
        }
      ],
      "source": [
        "import tensorflow as tf\n",
        "import os\n",
        "import zipfile\n",
        "from os import path, getcwd, chdir\n",
        "\n",
        "!wget \"https://storage.googleapis.com/laurencemoroney-blog.appspot.com/happy-or-sad.zip\" -O \"/tmp/happy-or-sad.zip\"\n",
        "\n",
        "# DO NOT CHANGE THE LINE BELOW. If you are developing in a local\n",
        "# environment, then grab happy-or-sad.zip from the Coursera Jupyter Notebook\n",
        "# and place it inside a local folder and edit the path to that location\n",
        "path = \"/tmp/happy-or-sad.zip\"\n",
        "\n",
        "zip_ref = zipfile.ZipFile(path, 'r')\n",
        "zip_ref.extractall(\"/tmp/h-or-s\")\n",
        "zip_ref.close()\n",
        "\n",
        "DESIRED_ACCURACY = 0.999\n",
        "\n",
        "class myCallback(tf.keras.callbacks.Callback):\n",
        "  # Your Code\n",
        "  def on_epoch_end(self, epoch, logs={}):\n",
        "    if logs.get('accuracy') > DESIRED_ACCURACY:\n",
        "      print(\"\\nReached 99.9% accuracy so cancelling training!\")\n",
        "      self.model.stop_training = True\n",
        "\n",
        "callbacks = myCallback()\n",
        "\n",
        "# This Code Block should Define and Compile the Model\n",
        "model = tf.keras.models.Sequential([\n",
        "# Your Code Here\n",
        "    tf.keras.layers.Conv2D(16, (3,3), activation='relu', input_shape=(150, 150, 3)),\n",
        "    tf.keras.layers.MaxPooling2D(2, 2),\n",
        "    tf.keras.layers.Conv2D(32, (3,3), activation='relu', input_shape=(150, 150, 3)),\n",
        "    tf.keras.layers.MaxPooling2D(2, 2),\n",
        "    tf.keras.layers.Conv2D(64, (3,3), activation='relu', input_shape=(150, 150, 3)),\n",
        "    tf.keras.layers.MaxPooling2D(2, 2),\n",
        "\n",
        "    tf.keras.layers.Flatten(),\n",
        "    tf.keras.layers.Dense(512, activation='relu'),\n",
        "    tf.keras.layers.Dense(1, activation='sigmoid')\n",
        "])\n",
        "\n",
        "from tensorflow.keras.optimizers import RMSprop\n",
        "\n",
        "model.compile(# Your Code Here #\n",
        "    optimizer=RMSprop(lr=0.001),\n",
        "    loss='binary_crossentropy', \n",
        "    metrics=['accuracy']\n",
        ")\n",
        "\n",
        "# This code block should create an instance of an ImageDataGenerator called train_datagen \n",
        "# And a train_generator by calling train_datagen.flow_from_directory\n",
        "\n",
        "from tensorflow.keras.preprocessing.image import ImageDataGenerator\n",
        "\n",
        "train_datagen = ImageDataGenerator(rescale=1/255)\n",
        "\n",
        "train_generator = train_datagen.flow_from_directory(\n",
        "        # Your Code Here\n",
        "        '/tmp/h-or-s',\n",
        "        target_size=(150, 150), \n",
        "        batch_size=10,\n",
        "        class_mode='binary' \n",
        ")\n",
        "\n",
        "# Expected output: 'Found 80 images belonging to 2 classes'\n",
        "    \n",
        "# Expected output: \"Reached 99.9% accuracy so cancelling training!\"\""
      ]
    },
    {
      "cell_type": "code",
      "source": [
        "# This code block should call model.fit and train for\n",
        "# a number of epochs. \n",
        "history = model.fit(\n",
        "      # Your Code Here\n",
        "      train_generator,\n",
        "      steps_per_epoch=2,  \n",
        "      epochs=15,\n",
        "      verbose=1,\n",
        "      callbacks=[callbacks]\n",
        ")"
      ],
      "metadata": {
        "colab": {
          "base_uri": "https://localhost:8080/"
        },
        "id": "zbFxdlvroAtm",
        "outputId": "0f121bb7-aca6-4572-a7e0-887eaa20a52e"
      },
      "execution_count": 5,
      "outputs": [
        {
          "output_type": "stream",
          "name": "stdout",
          "text": [
            "Epoch 1/15\n",
            "2/2 [==============================] - 2s 307ms/step - loss: 8.3845 - accuracy: 0.3000\n",
            "Epoch 2/15\n",
            "2/2 [==============================] - 1s 296ms/step - loss: 1.7907 - accuracy: 0.4500\n",
            "Epoch 3/15\n",
            "2/2 [==============================] - 1s 303ms/step - loss: 0.6850 - accuracy: 0.4500\n",
            "Epoch 4/15\n",
            "2/2 [==============================] - 1s 285ms/step - loss: 0.6504 - accuracy: 0.6500\n",
            "Epoch 5/15\n",
            "2/2 [==============================] - 1s 286ms/step - loss: 0.6744 - accuracy: 0.4500\n",
            "Epoch 6/15\n",
            "2/2 [==============================] - 1s 290ms/step - loss: 1.0798 - accuracy: 0.5000\n",
            "Epoch 7/15\n",
            "2/2 [==============================] - 1s 283ms/step - loss: 0.8933 - accuracy: 0.6000\n",
            "Epoch 8/15\n",
            "2/2 [==============================] - ETA: 0s - loss: 0.4647 - accuracy: 1.0000\n",
            "Reached 99.9% accuracy so cancelling training!\n",
            "2/2 [==============================] - 1s 295ms/step - loss: 0.4647 - accuracy: 1.0000\n"
          ]
        }
      ]
    },
    {
      "cell_type": "code",
      "source": [
        " # model fitting\n",
        "history.history['accuracy'][-1]"
      ],
      "metadata": {
        "colab": {
          "base_uri": "https://localhost:8080/"
        },
        "id": "J06_caxIoc-1",
        "outputId": "dae447f5-bec4-45da-d743-62f9f0aa450b"
      },
      "execution_count": 6,
      "outputs": [
        {
          "output_type": "execute_result",
          "data": {
            "text/plain": [
              "1.0"
            ]
          },
          "metadata": {},
          "execution_count": 6
        }
      ]
    }
  ]
}